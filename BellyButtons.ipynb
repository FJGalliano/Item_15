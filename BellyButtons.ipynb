{
 "cells": [
  {
   "cell_type": "code",
   "execution_count": 1,
   "metadata": {
    "collapsed": true
   },
   "outputs": [],
   "source": [
    "import datetime as dt\n",
    "import numpy as np\n",
    "import pandas as pd\n",
    "import os\n",
    "\n",
    "import sqlalchemy\n",
    "from sqlalchemy.ext.automap import automap_base\n",
    "from sqlalchemy.orm import Session\n",
    "from sqlalchemy import create_engine, func\n",
    "\n",
    "from flask import Flask, jsonify\n",
    "\n",
    "    "
   ]
  },
  {
   "cell_type": "code",
   "execution_count": 2,
   "metadata": {
    "collapsed": true
   },
   "outputs": [],
   "source": [
    "#################################################\n",
    "#################  Database Setup ###############\n",
    "#################################################\n",
    "engine = create_engine(\"sqlite:///belly_button_biodiversity.sqlite\")\n",
    "\n",
    "# reflect an existing database into a new model\n",
    "Base = automap_base()\n",
    "# reflect the tables\n",
    "Base.prepare(engine, reflect=True)\n",
    "\n",
    "# # Save reference to the table\n",
    "# ______________ = Base.classes.____________________\n",
    "\n",
    "# Create our session (link) from Python to the DB\n",
    "session = Session(engine)\n",
    "\n"
   ]
  },
  {
   "cell_type": "code",
   "execution_count": 3,
   "metadata": {},
   "outputs": [
    {
     "data": {
      "text/plain": [
       "['otu', 'samples', 'samples_metadata']"
      ]
     },
     "execution_count": 3,
     "metadata": {},
     "output_type": "execute_result"
    }
   ],
   "source": [
    "Base.classes.keys()"
   ]
  },
  {
   "cell_type": "code",
   "execution_count": 4,
   "metadata": {
    "collapsed": true
   },
   "outputs": [],
   "source": [
    "#################################################\n",
    "##################  Flask Setup  ################\n",
    "#################################################\n",
    "app = Flask(__name__)\n",
    "\n",
    "\n"
   ]
  },
  {
   "cell_type": "code",
   "execution_count": null,
   "metadata": {
    "collapsed": true
   },
   "outputs": [],
   "source": [
    "#################################################\n",
    "# ###############  Flask Routes  ################\n",
    "#################################################\n",
    "\n",
    "@app.route(\"/\")\n",
    "def index():\n",
    "        return \"Hello Belly Bottom Enthusiast\"\n",
    "        \n",
    "#     \"\"\"List all available api routes.\"\"\"\n",
    "#     return (\n",
    "#         f\"Available Routes:<br/>\"\n",
    "#         f\"/api/v1.0/names<br/>\"\n",
    "#         f\"/api/v1.0/passengers\"\n",
    "#     )\n",
    "\n",
    "\n",
    "@app.route(\"/names\")\n",
    "def names():\n",
    "    \"\"\"Return a list of all sample names\"\"\"\n",
    "    # Query all names\n",
    "    results = session.query(-----------.name).all()\n",
    "\n",
    "    # Convert list of tuples into normal list\n",
    "    all_names = list(np.ravel(results))\n",
    "\n",
    "    return jsonify(all_names)\n",
    "\n",
    "\n",
    "@app.route(\"/otu\")\n",
    "def otus():\n",
    "    \"\"\"Return a list of OTU descriptions\"\"\"\n",
    "    # Query all names\n",
    "    results = session.query(-----------.name).all()\n",
    "\n",
    "    # Convert list of tuples into normal list\n",
    "    all_names = list(np.ravel(results))\n",
    "\n",
    "    return jsonify(all_names)\n",
    "\n",
    "\n",
    "@app.route(\"/metadata/<sample>\")\n",
    "def metadata():\n",
    "    \"\"\"Return a json dictionary of metadata\"\"\"\n",
    "    # Query all OTUs\n",
    "    results = session.query(-----------).all()\n",
    "\n",
    "    # Create a dictionary from the row data and append to a list of all_OTUs\n",
    "    all-------------- = []\n",
    "    for ------------ in results:\n",
    "        ---------- _dict = {}\n",
    "        ---------- _dict[\"AGE:\"] = --------.age\n",
    "        ---------- _dict[\"BBTYPE:\"] = ---------.bbtype\n",
    "        -----------_dict[\"GENDER:\"] = ---------.gender\n",
    "        -----------_dict[\"LOCATION:\"] = ---------.location\n",
    "        -----------_dict[\"SAMPLEID:\"] = ---------.sampleid\n",
    "        all_-----------.append(---------_dict)\n",
    "\n",
    "    return jsonify(all_-----------)\n",
    "\n",
    "@app.route(\"/wfreq/<sample>\")\n",
    "def wfreq():\n",
    "    \"\"\" Returns an INTEGER value for weekly washing frequency\"\"\"\n",
    "    # Query all frequencies\n",
    "    results = session.query(-----------.&&&&&&&&).all()\n",
    "\n",
    "    # Convert list of tuples into normal list\n",
    "    all_&&&&&&& = list(np.ravel(results))\n",
    "\n",
    "    return jsonify(all_&&&&&&)\n",
    "\n",
    "@app.route(\"/sample/<sample>\")\n",
    "def samples():\n",
    "    \"\"\" Returns a list of dictionaries of OTU_IDs and Sample_Values\"\"\"\n",
    "    "
   ]
  },
  {
   "cell_type": "code",
   "execution_count": null,
   "metadata": {
    "collapsed": true
   },
   "outputs": [],
   "source": [
    "if __name__ == '__main__':\n",
    "    app.run(debug=True)"
   ]
  },
  {
   "cell_type": "code",
   "execution_count": null,
   "metadata": {
    "collapsed": true
   },
   "outputs": [],
   "source": []
  },
  {
   "cell_type": "code",
   "execution_count": null,
   "metadata": {
    "collapsed": true
   },
   "outputs": [],
   "source": []
  },
  {
   "cell_type": "code",
   "execution_count": null,
   "metadata": {
    "collapsed": true
   },
   "outputs": [],
   "source": []
  },
  {
   "cell_type": "code",
   "execution_count": null,
   "metadata": {
    "collapsed": true
   },
   "outputs": [],
   "source": []
  },
  {
   "cell_type": "code",
   "execution_count": null,
   "metadata": {
    "collapsed": true
   },
   "outputs": [],
   "source": []
  }
 ],
 "metadata": {
  "kernelspec": {
   "display_name": "Python 3",
   "language": "python",
   "name": "python3"
  },
  "language_info": {
   "codemirror_mode": {
    "name": "ipython",
    "version": 3
   },
   "file_extension": ".py",
   "mimetype": "text/x-python",
   "name": "python",
   "nbconvert_exporter": "python",
   "pygments_lexer": "ipython3",
   "version": "3.6.3"
  }
 },
 "nbformat": 4,
 "nbformat_minor": 2
}
